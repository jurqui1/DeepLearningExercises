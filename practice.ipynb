{
 "cells": [
  {
   "attachments": {},
   "cell_type": "markdown",
   "metadata": {},
   "source": [
    "Following this guide for understanding and building: https://www.youtube.com/watch?v=TCH_1BHY58I"
   ]
  },
  {
   "attachments": {},
   "cell_type": "markdown",
   "metadata": {},
   "source": [
    "Doing mostly by memory of process: "
   ]
  },
  {
   "cell_type": "code",
   "execution_count": 2,
   "metadata": {},
   "outputs": [],
   "source": [
    "import torch \n",
    "import torch.nn.functional as F\n",
    "import matplotlib.pyplot"
   ]
  },
  {
   "cell_type": "code",
   "execution_count": 4,
   "metadata": {},
   "outputs": [],
   "source": [
    "words = open('names.txt').read().splitlines()"
   ]
  },
  {
   "cell_type": "code",
   "execution_count": 12,
   "metadata": {},
   "outputs": [],
   "source": [
    "# Build stoi and i to itos\n",
    "chars = sorted(list(set(''.join(words))))\n",
    "stoi = {s:i+1 for i,s in enumerate(chars)}\n",
    "stoi['.'] = 0\n",
    "itos = {i:s for s,i in stoi.items()}"
   ]
  },
  {
   "cell_type": "code",
   "execution_count": 49,
   "metadata": {},
   "outputs": [],
   "source": [
    "input_length = 3\n",
    "\n",
    "def create_data(data):\n",
    "    x = []\n",
    "    y = []\n",
    "\n",
    "    for word in words:\n",
    "        context = [0] * input_length\n",
    "        for char in word + '.': \n",
    "            indx = stoi[char]\n",
    "            x.append(context)\n",
    "            y.append(indx)\n",
    "            context = context[1:] + [indx]\n",
    "\n",
    "    x = torch.tensor(x)\n",
    "    y = torch.tensor(y)\n",
    "    return x, y\n",
    "\n",
    "import random \n",
    "random.shuffle(words)\n",
    "\n",
    "length = len(words)\n",
    "\n",
    "xtr,ytr = create_data(words[:int((length*0.8))])\n",
    "xval,yval = create_data(words[int((length*0.8)):int((length*0.9))])\n",
    "xtest,ytest = create_data(words[int(length*0.9):])"
   ]
  },
  {
   "cell_type": "code",
   "execution_count": 57,
   "metadata": {},
   "outputs": [],
   "source": [
    "total_chars = len(stoi)\n",
    "num_embeddings = 10\n",
    "middle_nodes = 200\n",
    "\n",
    "C =  torch.randn(total_chars, num_embeddings)\n",
    "W1 = torch.randn(num_embeddings * input_length, middle_nodes)\n",
    "b1 = torch.randn(middle_nodes)\n",
    "W2 = torch.randn(middle_nodes, total_chars)\n",
    "b2 = torch.randn(total_chars)\n",
    "\n",
    "parameters = [C,W1,b1,W2,b2]\n",
    "\n",
    "for p in parameters:\n",
    "    p.requires_grad = True"
   ]
  },
  {
   "cell_type": "code",
   "execution_count": 62,
   "metadata": {},
   "outputs": [
    {
     "name": "stdout",
     "output_type": "stream",
     "text": [
      "1.8861414194107056\n"
     ]
    }
   ],
   "source": [
    "# Batch Forward pass\n",
    "num_trainings = 20000\n",
    "batch_size = 32\n",
    "for i in range(num_trainings):\n",
    "    mini = torch.randint(0,xtr.shape[0], (batch_size,))\n",
    "    emb = C[xtr[mini]].view(mini.shape[0], -1)\n",
    "    h = torch.tanh(emb @ W1 + b1)\n",
    "    logits = h @ W2 + b2\n",
    "    counts = logits.exp()\n",
    "    prob = counts/counts.sum(dim=1,keepdims=True)\n",
    "    loss = -prob[torch.arange(emb.shape[0]), ytr[mini]].log().mean()\n",
    "    # Backprop\n",
    "    for p in parameters:\n",
    "        p.grad = None\n",
    "    loss.backward()\n",
    "    for p in parameters:\n",
    "        p.data += -0.001 * p.grad\n",
    "print(loss.item())"
   ]
  },
  {
   "cell_type": "code",
   "execution_count": 63,
   "metadata": {},
   "outputs": [
    {
     "data": {
      "text/plain": [
       "2.124830722808838"
      ]
     },
     "execution_count": 63,
     "metadata": {},
     "output_type": "execute_result"
    }
   ],
   "source": [
    "emb = C[xval].view(xval.shape[0], -1)\n",
    "h = torch.tanh(emb @ W1 + b1)\n",
    "logits = h @ W2 + b2\n",
    "counts = logits.exp()\n",
    "prob = counts/counts.sum(dim=1,keepdims=True)\n",
    "loss = -prob[torch.arange(xval.shape[0]), yval].log().mean()\n",
    "loss.item()"
   ]
  },
  {
   "cell_type": "code",
   "execution_count": null,
   "metadata": {},
   "outputs": [],
   "source": []
  },
  {
   "cell_type": "code",
   "execution_count": null,
   "metadata": {},
   "outputs": [],
   "source": []
  },
  {
   "cell_type": "code",
   "execution_count": null,
   "metadata": {},
   "outputs": [],
   "source": []
  },
  {
   "cell_type": "code",
   "execution_count": null,
   "metadata": {},
   "outputs": [],
   "source": []
  }
 ],
 "metadata": {
  "coursera": {
   "course_slug": "convolutional-neural-networks",
   "graded_item_id": "IaknP",
   "launcher_item_id": "5UMr4"
  },
  "kernelspec": {
   "display_name": "Python 3",
   "language": "python",
   "name": "python3"
  },
  "language_info": {
   "codemirror_mode": {
    "name": "ipython",
    "version": 3
   },
   "file_extension": ".py",
   "mimetype": "text/x-python",
   "name": "python",
   "nbconvert_exporter": "python",
   "pygments_lexer": "ipython3",
   "version": "3.8.5 (tags/v3.8.5:580fbb0, Jul 20 2020, 15:57:54) [MSC v.1924 64 bit (AMD64)]"
  },
  "vscode": {
   "interpreter": {
    "hash": "570feb405e2e27c949193ac68f46852414290d515b0ba6e5d90d076ed2284471"
   }
  }
 },
 "nbformat": 4,
 "nbformat_minor": 2
}
