{
 "cells": [
  {
   "attachments": {},
   "cell_type": "markdown",
   "metadata": {},
   "source": [
    "Following this guide for understanding and building: https://www.youtube.com/watch?v=TCH_1BHY58I"
   ]
  },
  {
   "attachments": {},
   "cell_type": "markdown",
   "metadata": {},
   "source": [
    "More on the model: This will be a character level multi-level perceptron model that introduces the use of embeddings to give individual letters more parameters with which to adjust it's weights to. \n",
    "\n",
    "\n",
    "The reason we're distancing ourselves from the approach of just doing counts and using that to create a distribution of the probable outcomes it that the matrix containing the counts not only becomes increasingly sparse as more previous characters are added to the string, but the matrix grows at a rate of $n^{x+1}$ where n is the number of unique charaters to predict and x is the the number of characters preceeding the predicted character. \n",
    "\n",
    "Example: given only the a single letter and trying to predict the next letter would lead to a $27^2$ matrix since there are 27 characters (including the start/stop character '.') and we only have one letter of context x=1\n",
    "\n",
    "Using the NN method of applying linear regression to weights and allowing the cost function to manipulate the weights s.t. the cost function is minimized allows for significantly smaller networks to exist and to have more control over the size. Part of having this level of control is being to easily add more layers or adding different kinds of layers like EMBEDDINGS!\n",
    "\n",
    "And thats what the multi-level perceptron (MLP) model is all about. Just adding embeddings. I think."
   ]
  },
  {
   "cell_type": "code",
   "execution_count": 1,
   "metadata": {},
   "outputs": [
    {
     "name": "stderr",
     "output_type": "stream",
     "text": [
      "C:\\Users\\julio\\AppData\\Roaming\\Python\\Python38\\site-packages\\tqdm\\auto.py:22: TqdmWarning: IProgress not found. Please update jupyter and ipywidgets. See https://ipywidgets.readthedocs.io/en/stable/user_install.html\n",
      "  from .autonotebook import tqdm as notebook_tqdm\n"
     ]
    }
   ],
   "source": [
    "import torch \n",
    "import torch.nn.functional as F\n",
    "import matplotlib.pyplot as plt\n"
   ]
  },
  {
   "cell_type": "code",
   "execution_count": 2,
   "metadata": {},
   "outputs": [
    {
     "data": {
      "text/plain": [
       "['emma', 'olivia', 'ava', 'isabella', 'sophia', 'charlotte', 'mia', 'amelia']"
      ]
     },
     "execution_count": 2,
     "metadata": {},
     "output_type": "execute_result"
    }
   ],
   "source": [
    "# Loading in data \n",
    "words = open('names.txt', 'r').read().splitlines()\n",
    "words[:8]"
   ]
  },
  {
   "cell_type": "code",
   "execution_count": 13,
   "metadata": {},
   "outputs": [],
   "source": [
    "# build vocab \n",
    "chars = sorted(list(set(''.join(words)))) # Get all possible letters \n",
    "# Apply index based mapping\n",
    "stoi = {char:i+1 for i,char in enumerate(chars)}\n",
    "stoi['.'] = 0\n",
    "itos = {i:char for char, i in stoi.items()}"
   ]
  },
  {
   "cell_type": "code",
   "execution_count": 45,
   "metadata": {},
   "outputs": [
    {
     "name": "stdout",
     "output_type": "stream",
     "text": [
      "[0, 0, 0]\n",
      "... -----> e\n",
      "[0, 0, 5]\n",
      "..e -----> m\n",
      "[0, 5, 13]\n",
      ".em -----> m\n",
      "[5, 13, 13]\n",
      "emm -----> a\n",
      "[13, 13, 1]\n",
      "mma -----> .\n",
      "[0, 0, 0]\n",
      "... -----> o\n",
      "[0, 0, 15]\n",
      "..o -----> l\n",
      "[0, 15, 12]\n",
      ".ol -----> i\n",
      "[15, 12, 9]\n",
      "oli -----> v\n",
      "[12, 9, 22]\n",
      "liv -----> i\n",
      "[9, 22, 9]\n",
      "ivi -----> a\n",
      "[22, 9, 1]\n",
      "via -----> .\n",
      "[0, 0, 0]\n",
      "... -----> a\n",
      "[0, 0, 1]\n",
      "..a -----> v\n",
      "[0, 1, 22]\n",
      ".av -----> a\n",
      "[1, 22, 1]\n",
      "ava -----> .\n",
      "[0, 0, 0]\n",
      "... -----> i\n",
      "[0, 0, 9]\n",
      "..i -----> s\n",
      "[0, 9, 19]\n",
      ".is -----> a\n",
      "[9, 19, 1]\n",
      "isa -----> b\n",
      "[19, 1, 2]\n",
      "sab -----> e\n",
      "[1, 2, 5]\n",
      "abe -----> l\n",
      "[2, 5, 12]\n",
      "bel -----> l\n",
      "[5, 12, 12]\n",
      "ell -----> a\n",
      "[12, 12, 1]\n",
      "lla -----> .\n",
      "[0, 0, 0]\n",
      "... -----> s\n",
      "[0, 0, 19]\n",
      "..s -----> o\n",
      "[0, 19, 15]\n",
      ".so -----> p\n",
      "[19, 15, 16]\n",
      "sop -----> h\n",
      "[15, 16, 8]\n",
      "oph -----> i\n",
      "[16, 8, 9]\n",
      "phi -----> a\n",
      "[8, 9, 1]\n",
      "hia -----> .\n",
      "[0, 0, 0]\n",
      "... -----> c\n",
      "[0, 0, 3]\n",
      "..c -----> h\n",
      "[0, 3, 8]\n",
      ".ch -----> a\n",
      "[3, 8, 1]\n",
      "cha -----> r\n",
      "[8, 1, 18]\n",
      "har -----> l\n",
      "[1, 18, 12]\n",
      "arl -----> o\n",
      "[18, 12, 15]\n",
      "rlo -----> t\n",
      "[12, 15, 20]\n",
      "lot -----> t\n",
      "[15, 20, 20]\n",
      "ott -----> e\n",
      "[20, 20, 5]\n",
      "tte -----> .\n",
      "torch.Size([42, 3])\n"
     ]
    }
   ],
   "source": [
    "# Building dataset \n",
    "block_size = 3\n",
    "x=[]\n",
    "y=[]\n",
    "\n",
    "for word in words[:6]:\n",
    "    context = [0] * block_size\n",
    "\n",
    "    for char in word + '.': #need to add ending indicator\n",
    "        index = stoi[char]\n",
    "        print(context)\n",
    "        x.append(context)\n",
    "        y.append(index)\n",
    "        print(''.join(itos[i] for i in context), '----->', itos[y[-1]])\n",
    "        context = context[1:] + [index]\n",
    "x = torch.tensor(x)\n",
    "y = torch.tensor(y)\n",
    "print(x.shape)"
   ]
  },
  {
   "cell_type": "code",
   "execution_count": 43,
   "metadata": {},
   "outputs": [
    {
     "data": {
      "text/plain": [
       "tensor([[ 0,  0,  0],\n",
       "        [ 0,  0,  5],\n",
       "        [ 0,  5, 13],\n",
       "        [ 5, 13, 13],\n",
       "        [13, 13,  1],\n",
       "        [ 0,  0,  0],\n",
       "        [ 0,  0, 15],\n",
       "        [ 0, 15, 12],\n",
       "        [15, 12,  9],\n",
       "        [12,  9, 22],\n",
       "        [ 9, 22,  9],\n",
       "        [22,  9,  1],\n",
       "        [ 0,  0,  0],\n",
       "        [ 0,  0,  1],\n",
       "        [ 0,  1, 22],\n",
       "        [ 1, 22,  1],\n",
       "        [ 0,  0,  0],\n",
       "        [ 0,  0,  9],\n",
       "        [ 0,  9, 19],\n",
       "        [ 9, 19,  1],\n",
       "        [19,  1,  2],\n",
       "        [ 1,  2,  5],\n",
       "        [ 2,  5, 12],\n",
       "        [ 5, 12, 12],\n",
       "        [12, 12,  1],\n",
       "        [ 0,  0,  0],\n",
       "        [ 0,  0, 19],\n",
       "        [ 0, 19, 15],\n",
       "        [19, 15, 16],\n",
       "        [15, 16,  8],\n",
       "        [16,  8,  9],\n",
       "        [ 8,  9,  1]])"
      ]
     },
     "execution_count": 43,
     "metadata": {},
     "output_type": "execute_result"
    }
   ],
   "source": [
    "x"
   ]
  },
  {
   "cell_type": "code",
   "execution_count": 24,
   "metadata": {},
   "outputs": [],
   "source": [
    "#Creating embeddingfs matrix\n",
    "C = torch.rand((27,2)) #27 rows to match vocab size and only creating a two layer deep set of embeddings, but can be manipulated as you'd like "
   ]
  },
  {
   "cell_type": "code",
   "execution_count": 37,
   "metadata": {},
   "outputs": [
    {
     "data": {
      "text/plain": [
       "(torch.Size([32, 3]), torch.int64, torch.Size([32]), torch.int64)"
      ]
     },
     "execution_count": 37,
     "metadata": {},
     "output_type": "execute_result"
    }
   ],
   "source": [
    "x.shape, x.dtype, y.shape, y.dtype"
   ]
  },
  {
   "cell_type": "code",
   "execution_count": 34,
   "metadata": {},
   "outputs": [
    {
     "data": {
      "text/plain": [
       "tensor([ 5, 13, 13,  1,  0, 15, 12,  9, 22,  9,  1,  0,  1, 22,  1,  0,  9, 19,\n",
       "         1,  2,  5, 12, 12,  1,  0, 19, 15, 16,  8,  9,  1,  0])"
      ]
     },
     "execution_count": 34,
     "metadata": {},
     "output_type": "execute_result"
    }
   ],
   "source": [
    "y"
   ]
  },
  {
   "cell_type": "code",
   "execution_count": 44,
   "metadata": {},
   "outputs": [
    {
     "data": {
      "text/plain": [
       "torch.Size([32, 3, 2])"
      ]
     },
     "execution_count": 44,
     "metadata": {},
     "output_type": "execute_result"
    }
   ],
   "source": [
    "C[x].shape"
   ]
  },
  {
   "cell_type": "code",
   "execution_count": 47,
   "metadata": {},
   "outputs": [],
   "source": [
    "embedding = C[x]\n",
    "#glossed over this, but whats happening is kind of a reverse, the elements of C (27,2) are being put into x (32,3) based on the contents of the x matrix. So where x maintains the orders and sequences, C injects the respective embedding row based on index\n",
    "# So if x = [0,1,2](1,3) then C[x] = [C[0], C[1], C[2]](1,3,2) since C has 2 elements per embedding and then to make it workable, C[x].view(x.shape[0],-1) just unpacks it "
   ]
  },
  {
   "cell_type": "code",
   "execution_count": null,
   "metadata": {},
   "outputs": [],
   "source": [
    "#Layer 1\n",
    "W1 = torch.randn((6,100)) # number of inputs is 6 since we have a context length of 3 and there are 2 associated layers to that (3x2=6)\n",
    "b = torch.rand((100))\n",
    "# embedding * W1 + b, but [32,3,2] wont multiply nicely into [6,100], so need to flatten [32,3,2] --> [32,6]\n",
    "# to help with the mental math of whats going on, im pretty sure the elements just get flattened! So previously, for the first input of [...] was [[0.3803, 0.1630],[0.3803, 0.1630],[0.3803, 0.1630]] (3x2) is now [0.3803, 0.1630, 0.3803, 0.1630, 0.3803, 0.1630](1x6)"
   ]
  },
  {
   "cell_type": "code",
   "execution_count": 65,
   "metadata": {},
   "outputs": [
    {
     "name": "stdout",
     "output_type": "stream",
     "text": [
      "\n"
     ]
    }
   ],
   "source": [
    "torch.cat([embedding[:,0,:],embedding[:,1,:],embedding[:,2,:]], dim=1) #hard coded example \n",
    "torch.cat(torch.unbind(embedding, dim=1), dim=1) # not hard coded, but more generalizable since it unpacks and then concats\n",
    "embedding.view(42,6) # most memory efficent way, view always works as long as its dimensions multipled equal the element count\n",
    "print()"
   ]
  },
  {
   "cell_type": "code",
   "execution_count": 70,
   "metadata": {},
   "outputs": [],
   "source": [
    "#Layer 1\n",
    "W1 = torch.randn((6,100)) # number of inputs is 6 since we have a context length of 3 and there are 2 associated layers to that (3x2=6)\n",
    "b1 = torch.randn((100))\n",
    "h = embedding.view(embedding.shape[0],-1) @ W1 + b1 # the -1 means make this work, so it will always output correct dimension\n",
    "h = torch.tanh(h) #applying activation function"
   ]
  },
  {
   "cell_type": "code",
   "execution_count": 71,
   "metadata": {},
   "outputs": [
    {
     "data": {
      "text/plain": [
       "torch.Size([42, 100])"
      ]
     },
     "execution_count": 71,
     "metadata": {},
     "output_type": "execute_result"
    }
   ],
   "source": [
    "h.shape"
   ]
  },
  {
   "cell_type": "code",
   "execution_count": 90,
   "metadata": {},
   "outputs": [],
   "source": [
    "# Layer 2\n",
    "W2 = torch.randn(100,27) #since this is the output layer and need to output 1 of 27 characters\n",
    "b2 = torch.randn(27)\n",
    "input = h @ W2 + b2\n",
    "m = torch.nn.Softmax(dim=1)\n",
    "output = m(input)\n",
    "loss = -output[torch.arange(42), y].log().mean()"
   ]
  },
  {
   "cell_type": "code",
   "execution_count": 89,
   "metadata": {},
   "outputs": [
    {
     "data": {
      "text/plain": [
       "tensor([ 0,  1,  2,  3,  4,  5,  6,  7,  8,  9, 10, 11, 12, 13, 14, 15, 16, 17,\n",
       "        18, 19, 20, 21, 22, 23, 24, 25, 26, 27, 28, 29, 30, 31, 32, 33, 34, 35,\n",
       "        36, 37, 38, 39, 40, 41])"
      ]
     },
     "execution_count": 89,
     "metadata": {},
     "output_type": "execute_result"
    }
   ],
   "source": [
    "torch.arange(42)"
   ]
  },
  {
   "cell_type": "code",
   "execution_count": 91,
   "metadata": {},
   "outputs": [
    {
     "data": {
      "text/plain": [
       "tensor([1.5390e-04, 9.5878e-11, 8.3701e-01, 8.0869e-08, 1.2492e-08, 1.0315e-06,\n",
       "        1.6220e-01, 1.9988e-14, 2.3743e-09, 7.6095e-08, 1.5902e-09, 7.5176e-07,\n",
       "        9.9780e-14, 8.0132e-10, 2.3634e-07, 3.9850e-08, 5.0612e-14, 2.5833e-08,\n",
       "        1.0204e-07, 6.7592e-07, 8.0086e-08, 5.5153e-08, 8.4450e-09, 1.7960e-07,\n",
       "        6.3426e-04, 3.1066e-09, 1.9387e-06])"
      ]
     },
     "execution_count": 91,
     "metadata": {},
     "output_type": "execute_result"
    }
   ],
   "source": [
    "output[0]"
   ]
  },
  {
   "cell_type": "code",
   "execution_count": 103,
   "metadata": {},
   "outputs": [],
   "source": [
    "# Building dataset \n",
    "block_size = 3\n",
    "x=[]\n",
    "y=[]\n",
    "\n",
    "for word in words:\n",
    "    context = [0] * block_size\n",
    "\n",
    "    for char in word + '.': #need to add ending indicator\n",
    "        index = stoi[char]\n",
    "        #print(context)\n",
    "        x.append(context)\n",
    "        y.append(index)\n",
    "        #print(''.join(itos[i] for i in context), '----->', itos[y[-1]])\n",
    "        context = context[1:] + [index]\n",
    "x = torch.tensor(x)\n",
    "y = torch.tensor(y)"
   ]
  },
  {
   "cell_type": "code",
   "execution_count": 126,
   "metadata": {},
   "outputs": [],
   "source": [
    "# Rewritten for clarity \n",
    "num_emb = 2\n",
    "total_emb_dim = num_emb * block_size\n",
    "middle_nodes = 100\n",
    "g = torch.Generator().manual_seed(2147483647)\n",
    "C = torch.randn((27,num_emb), generator=g)\n",
    "W1 = torch.randn((total_emb_dim,middle_nodes), generator=g) # number of inputs is 6 since we have a context length of 3 and there are 2 associated layers to that (3x2=6)\n",
    "b1 = torch.randn((middle_nodes), generator=g)\n",
    "W2 = torch.randn((middle_nodes,27), generator=g) #since this is the output layer and need to output 1 of 27 characters\n",
    "b2 = torch.randn((27), generator=g)\n",
    "parameters = [C, W1, b1, W2, b2]\n",
    "\n",
    "for p in parameters:\n",
    "    p.requires_grad = True\n"
   ]
  },
  {
   "cell_type": "code",
   "execution_count": 105,
   "metadata": {},
   "outputs": [
    {
     "name": "stdout",
     "output_type": "stream",
     "text": [
      "11.051857948303223\n"
     ]
    }
   ],
   "source": [
    "for _ in range(10):\n",
    "    # forward pass\n",
    "    embedding = C[x]\n",
    "    h = torch.tanh(embedding.view(embedding.shape[0],-1) @ W1 + b1)\n",
    "    logits = h @ W2 + b2\n",
    "    loss = F.cross_entropy(logits, y) #quicker version of taking softmax and calculating loss, makes forward and backward passes much more efficient and behaves well with large numbers\n",
    "    # Backwards Pass\n",
    "    for p in parameters:\n",
    "        p.grad = None #resets gradients to 0 every pass\n",
    "    loss.backward() #applies loss changes to respective gradients\n",
    "    for p in parameters:\n",
    "        p.data += -0.1 * p.grad # applies loss to the weight and bias parameters\n",
    "        \n",
    "print(loss.item())"
   ]
  },
  {
   "cell_type": "code",
   "execution_count": 112,
   "metadata": {},
   "outputs": [],
   "source": [
    "# Using trial and error, establish a high, but not unstable, learning rate parameter and low. \n",
    "# Then apply them to the learning rate sequentially\n",
    "lre = torch.linspace(-3,0,1000) # learning rate exponent\n",
    "lrs = 10**lre"
   ]
  },
  {
   "cell_type": "code",
   "execution_count": 244,
   "metadata": {},
   "outputs": [
    {
     "data": {
      "text/plain": [
       "tensor([173068, 204191, 194857, 104517, 201833, 177231, 180879, 180515, 146871,\n",
       "        154978, 184791, 196569, 102808, 138660, 130020, 192944, 125448,    160,\n",
       "        125175,  15949, 190961,  52404, 177121, 142065,  83789, 220984, 199946,\n",
       "        119327, 124497,  15022, 189506, 181576])"
      ]
     },
     "execution_count": 244,
     "metadata": {},
     "output_type": "execute_result"
    }
   ],
   "source": [
    "mini = torch.randint(0, x.shape[0],(32,), generator=g)\n",
    "mini"
   ]
  },
  {
   "cell_type": "code",
   "execution_count": 127,
   "metadata": {},
   "outputs": [],
   "source": [
    "#lri = []\n",
    "#lossi = []\n",
    "# But mini batch gradient descent is better, so \n",
    "for i in range(10000):\n",
    "    mini = torch.randint(0, x.shape[0],(32,), generator=g)\n",
    "    # forward pass\n",
    "    embedding = C[x[mini]]\n",
    "    h = torch.tanh(embedding.view(embedding.shape[0],-1) @ W1 + b1)\n",
    "    logits = h @ W2 + b2\n",
    "    loss = F.cross_entropy(logits, y[mini]) #quicker version of taking softmax and calculating loss, makes forward and backward passes much more efficient and behaves well with large numbers\n",
    "    # Backwards Pass\n",
    "    for p in parameters:\n",
    "        p.grad = None #resets gradients to 0 every pass\n",
    "    loss.backward()\n",
    "    #lr = lrs[i] #applies loss changes to respective gradients\n",
    "    for p in parameters:\n",
    "        p.data += -0.1 * p.grad # applies loss to the weight and bias parameters\n",
    "    #lri.append(lre[i])\n",
    "    #lossi.append(loss.item())"
   ]
  },
  {
   "cell_type": "code",
   "execution_count": 125,
   "metadata": {},
   "outputs": [
    {
     "data": {
      "text/plain": [
       "[<matplotlib.lines.Line2D at 0x12575ddd670>]"
      ]
     },
     "execution_count": 125,
     "metadata": {},
     "output_type": "execute_result"
    },
    {
     "data": {
      "image/png": "[encoded data removed]",
      "text/plain": [
       "<Figure size 640x480 with 1 Axes>"
      ]
     },
     "metadata": {},
     "output_type": "display_data"
    }
   ],
   "source": [
    "plt.plot(lri,lossi)\n",
    "plt.plot([-1.2, -0.6], [3, 3])\n",
    "# Any gain is good gain, but the optimal spot is in the range of the orange line after the elbow\n",
    "# At the optimal point, loss is at a minimum and the results are the least noisy "
   ]
  },
  {
   "cell_type": "code",
   "execution_count": 128,
   "metadata": {},
   "outputs": [
    {
     "data": {
      "text/plain": [
       "tensor(2.5214, grad_fn=<NllLossBackward0>)"
      ]
     },
     "execution_count": 128,
     "metadata": {},
     "output_type": "execute_result"
    }
   ],
   "source": [
    "# Since mini-batch GD only outputs the loss on the batch, we can apply the forward pass and calc loss to see what the avg loss is on the whole dataset\n",
    "embedding = C[x]\n",
    "h = torch.tanh(embedding.view(embedding.shape[0],-1) @ W1 + b1)\n",
    "logits = h @ W2 + b2\n",
    "loss = F.cross_entropy(logits, y)\n",
    "loss"
   ]
  },
  {
   "attachments": {},
   "cell_type": "markdown",
   "metadata": {},
   "source": [
    "#### Final bit:\n",
    "\n",
    "Now that all of the parts work and there is an established learning rate, the only thing left to do is get a good accuracy measuremeant via train/dev/test split"
   ]
  },
  {
   "cell_type": "code",
   "execution_count": 134,
   "metadata": {},
   "outputs": [],
   "source": [
    "def build_dataset(words, block_size= 3):\n",
    "    x=[]\n",
    "    y=[]\n",
    "\n",
    "    for word in words:\n",
    "        context = [0] * block_size\n",
    "\n",
    "        for char in word + '.': #need to add ending indicator\n",
    "            index = stoi[char]\n",
    "            x.append(context)\n",
    "            y.append(index)\n",
    "            context = context[1:] + [index]\n",
    "    x = torch.tensor(x)\n",
    "    y = torch.tensor(y)\n",
    "    return x, y \n",
    "\n",
    "import random\n",
    "random.seed(42)\n",
    "random.shuffle(words)\n",
    "n1 = int(0.8 * len(words))\n",
    "n2 = int(0.9 * len(words))\n",
    "\n",
    "xtr, ytr = build_dataset(words[:n1])\n",
    "xval, yval = build_dataset(words[n1:n2])\n",
    "xtest,ytest = build_dataset(words[n2:])\n"
   ]
  },
  {
   "cell_type": "code",
   "execution_count": 140,
   "metadata": {},
   "outputs": [],
   "source": [
    "# NN Architecture\n",
    "num_emb = 2\n",
    "total_emb_dim = num_emb * block_size\n",
    "middle_nodes = 100\n",
    "g = torch.Generator().manual_seed(2147483647)\n",
    "C = torch.randn((27,num_emb), generator=g)\n",
    "W1 = torch.randn((total_emb_dim,middle_nodes), generator=g) # number of inputs is 6 since we have a context length of 3 and there are 2 associated layers to that (3x2=6)\n",
    "b1 = torch.randn((middle_nodes), generator=g)\n",
    "W2 = torch.randn((middle_nodes,27), generator=g) #since this is the output layer and need to output 1 of 27 characters\n",
    "b2 = torch.randn((27), generator=g)\n",
    "parameters = [C, W1, b1, W2, b2]\n",
    "\n",
    "for p in parameters:\n",
    "    p.requires_grad = True"
   ]
  },
  {
   "cell_type": "code",
   "execution_count": 141,
   "metadata": {},
   "outputs": [],
   "source": [
    "# Clean forward, backwards, and updates\n",
    "def update_weights(xdata, ydata, runs, lr=0.1):\n",
    "    for i in range(runs):\n",
    "        #batch\n",
    "        mini = torch.randint(0, xdata.shape[0],(32,), generator=g)\n",
    "        #forward\n",
    "        embedding = C[xdata[mini]]\n",
    "        h = torch.tanh(embedding.view(embedding.shape[0],-1) @ W1 + b1)\n",
    "        logits = h @ W2 + b2\n",
    "        loss = F.cross_entropy(logits, ydata[mini]) \n",
    "        for p in parameters:\n",
    "            p.grad = None #\n",
    "        #back\n",
    "        loss.backward()\n",
    "        #update\n",
    "        for p in parameters:\n",
    "            p.data += -lr * p.grad"
   ]
  },
  {
   "cell_type": "code",
   "execution_count": 142,
   "metadata": {},
   "outputs": [],
   "source": [
    "def loss_calc(xdata, ydata):\n",
    "    embedding = C[xdata]\n",
    "    h = torch.tanh(embedding.view(embedding.shape[0],-1) @ W1 + b1)\n",
    "    logits = h @ W2 + b2\n",
    "    loss = F.cross_entropy(logits, ydata)\n",
    "    return loss.item()"
   ]
  },
  {
   "cell_type": "code",
   "execution_count": 139,
   "metadata": {},
   "outputs": [
    {
     "data": {
      "text/plain": [
       "2.4971537590026855"
      ]
     },
     "execution_count": 139,
     "metadata": {},
     "output_type": "execute_result"
    }
   ],
   "source": [
    "xtr, ytr = build_dataset(words[:n1])\n",
    "xval, yval = build_dataset(words[n1:n2])\n",
    "xtest,ytest = build_dataset(words[n2:])"
   ]
  },
  {
   "cell_type": "code",
   "execution_count": 224,
   "metadata": {},
   "outputs": [],
   "source": [
    "train_loss = update_weights(xtr, ytr, 10000, lr=0.01)"
   ]
  },
  {
   "cell_type": "code",
   "execution_count": 225,
   "metadata": {},
   "outputs": [
    {
     "data": {
      "text/plain": [
       "2.0628106594085693"
      ]
     },
     "execution_count": 225,
     "metadata": {},
     "output_type": "execute_result"
    }
   ],
   "source": [
    "loss_calc(xtr,ytr)"
   ]
  },
  {
   "cell_type": "code",
   "execution_count": 226,
   "metadata": {},
   "outputs": [
    {
     "data": {
      "text/plain": [
       "2.164951801300049"
      ]
     },
     "execution_count": 226,
     "metadata": {},
     "output_type": "execute_result"
    }
   ],
   "source": [
    "loss_calc(xval,yval)"
   ]
  },
  {
   "cell_type": "code",
   "execution_count": 227,
   "metadata": {},
   "outputs": [
    {
     "name": "stdout",
     "output_type": "stream",
     "text": [
      "2.164951801300049\n"
     ]
    }
   ],
   "source": [
    "runner_up = loss_calc(xval,yval)\n",
    "if runner_up < current_best:\n",
    "    current_best = runner_up\n",
    "print(current_best)"
   ]
  },
  {
   "cell_type": "code",
   "execution_count": 229,
   "metadata": {},
   "outputs": [
    {
     "data": {
      "text/plain": [
       "2.1531989574432373"
      ]
     },
     "execution_count": 229,
     "metadata": {},
     "output_type": "execute_result"
    }
   ],
   "source": [
    "loss_calc(xtest,ytest)"
   ]
  },
  {
   "attachments": {},
   "cell_type": "markdown",
   "metadata": {},
   "source": [
    "### Steps taken to determine what to adjust: \n",
    "\n",
    "##### Warning: More complex networks take more time to converge\n",
    "\n",
    "- Train and dev are not super far away. This is a result of the model complex enough to overfit and memorize the inputs. Therefore: underfitting (could do better) ----> make more complex by scaling somethign up (100 nodes -> 300 nodes) \n",
    "- Once training doesn't seem to improve much (could run a SMA) reduce learning rate and try again for fine tuning or increase batch size\n",
    "- Train and dev continue to be close, but model isn't improving much anymore, so the bottleneck might be somewhere else. Therefore: underfitting (could do better) -->make more complex by adding more embedding layers (2->3)\n",
    "- Tried upping it to just 10 layers in the embedding and now Im seeing significant differene in train (2.14) and test(2.25), so need to make less complex or get more data --> reduce the complexity of later layers (300 nodes --> 200 nodes)\n",
    "\n",
    "So everything you could try is:\n",
    "- hypertune optimization (learning rate, batch size, number of runs )\n",
    "- do NAS and either manipulate size of layers or number of layers (size of middle layer, number of embedding layers, number of layers)\n",
    "- gather more data\n",
    "- add more characters at beginning instead of just 3 characters for context"
   ]
  },
  {
   "cell_type": "code",
   "execution_count": 207,
   "metadata": {},
   "outputs": [],
   "source": [
    "# to reset\n",
    "num_emb = 10\n",
    "total_emb_dim = num_emb * block_size\n",
    "middle_nodes = 300\n",
    "g = torch.Generator().manual_seed(2147483647)\n",
    "C = torch.randn((27,num_emb), generator=g)\n",
    "W1 = torch.randn((total_emb_dim,middle_nodes), generator=g) # number of inputs is 6 since we have a context length of 3 and there are 2 associated layers to that (3x2=6)\n",
    "b1 = torch.randn((middle_nodes), generator=g)\n",
    "W2 = torch.randn((middle_nodes,27), generator=g) #since this is the output layer and need to output 1 of 27 characters\n",
    "b2 = torch.randn((27), generator=g)\n",
    "parameters = [C, W1, b1, W2, b2]\n",
    "\n",
    "for p in parameters:\n",
    "    p.requires_grad = True"
   ]
  },
  {
   "cell_type": "code",
   "execution_count": 230,
   "metadata": {},
   "outputs": [
    {
     "data": {
      "image/png": "[encoded data removed]",
      "text/plain": [
       "<Figure size 800x800 with 1 Axes>"
      ]
     },
     "metadata": {},
     "output_type": "display_data"
    }
   ],
   "source": [
    "plt.figure(figsize=(8,8))\n",
    "plt.scatter(C[:,0].data, C[:,1].data, s=200)\n",
    "for i in range(C.shape[0]):\n",
    "    plt.text(C[i,0].item(), C[i,1].item(), itos[i], ha='center', va=\"center\", color='white')\n",
    "plt.grid('minor')"
   ]
  },
  {
   "cell_type": "code",
   "execution_count": 238,
   "metadata": {},
   "outputs": [
    {
     "name": "stdout",
     "output_type": "stream",
     "text": [
      "brian.\n",
      "derie.\n",
      "everlitzamise.\n",
      "yaylonse.\n",
      "daziu.\n",
      "rayya.\n",
      "samysterie.\n",
      "daylan.\n",
      "duo.\n",
      "api.\n",
      "jackianavery.\n",
      "aizyne.\n",
      "revchevek.\n",
      "carlos.\n",
      "zamateh.\n",
      "anagtley.\n",
      "emriyagzoriana.\n",
      "behlanaveen.\n",
      "pelyn.\n",
      "cynah.\n"
     ]
    }
   ],
   "source": [
    "#Generate samples:\n",
    "\n",
    "for _ in range(20):\n",
    "    out = []\n",
    "    context = [0] * block_size\n",
    "    while True:\n",
    "        emb = C[torch.tensor([context])]\n",
    "        h = torch.tanh(emb.view(1,-1) @ W1 + b1)\n",
    "        logits = h @ W2 + b2\n",
    "        probs = F.softmax(logits, dim=1)\n",
    "        ix = torch.multinomial(probs, num_samples=1).item()\n",
    "        context = context[1:] + [ix]\n",
    "        out.append(ix)\n",
    "        if ix ==0:\n",
    "            break \n",
    "\n",
    "    print(''.join(itos[i] for i in out))"
   ]
  },
  {
   "cell_type": "code",
   "execution_count": null,
   "metadata": {},
   "outputs": [],
   "source": [
    "brean"
   ]
  }
 ],
 "metadata": {
  "coursera": {
   "course_slug": "convolutional-neural-networks",
   "graded_item_id": "IaknP",
   "launcher_item_id": "5UMr4"
  },
  "kernelspec": {
   "display_name": "Python 3",
   "language": "python",
   "name": "python3"
  },
  "language_info": {
   "codemirror_mode": {
    "name": "ipython",
    "version": 3
   },
   "file_extension": ".py",
   "mimetype": "text/x-python",
   "name": "python",
   "nbconvert_exporter": "python",
   "pygments_lexer": "ipython3",
   "version": "3.8.5 (tags/v3.8.5:580fbb0, Jul 20 2020, 15:57:54) [MSC v.1924 64 bit (AMD64)]"
  },
  "vscode": {
   "interpreter": {
    "hash": "570feb405e2e27c949193ac68f46852414290d515b0ba6e5d90d076ed2284471"
   }
  }
 },
 "nbformat": 4,
 "nbformat_minor": 2
}
